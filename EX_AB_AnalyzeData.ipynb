{
  "nbformat": 4,
  "nbformat_minor": 0,
  "metadata": {
    "colab": {
      "name": "Untitled16.ipynb",
      "provenance": [],
      "authorship_tag": "ABX9TyNrPFd4dWYflPMdWvfJg6sV",
      "include_colab_link": true
    },
    "kernelspec": {
      "name": "python3",
      "display_name": "Python 3"
    },
    "language_info": {
      "name": "python"
    }
  },
  "cells": [
    {
      "cell_type": "markdown",
      "metadata": {
        "id": "view-in-github",
        "colab_type": "text"
      },
      "source": [
        "<a href=\"https://colab.research.google.com/github/thiagogavioli/abtest/blob/main/EX_AB_AnalyzeData.ipynb\" target=\"_parent\"><img src=\"https://colab.research.google.com/assets/colab-badge.svg\" alt=\"Open In Colab\"/></a>"
      ]
    },
    {
      "cell_type": "code",
      "metadata": {
        "colab": {
          "base_uri": "https://localhost:8080/"
        },
        "id": "yYYu8026m4i9",
        "outputId": "51fd4041-c5ee-49dc-bce1-6436947a0c81"
      },
      "source": [
        "# import packages\n",
        "\n",
        "import numpy as np\n",
        "import pandas as pd\n",
        "import scipy.stats as stats\n",
        "from statsmodels.stats import proportion as proptests\n",
        "\n",
        "import matplotlib.pyplot as plt\n",
        "% matplotlib inline"
      ],
      "execution_count": 1,
      "outputs": [
        {
          "output_type": "stream",
          "text": [
            "/usr/local/lib/python3.7/dist-packages/statsmodels/tools/_testing.py:19: FutureWarning: pandas.util.testing is deprecated. Use the functions in the public API at pandas.testing instead.\n",
            "  import pandas.util.testing as tm\n"
          ],
          "name": "stderr"
        }
      ]
    },
    {
      "cell_type": "code",
      "metadata": {
        "colab": {
          "base_uri": "https://localhost:8080/",
          "height": 376
        },
        "id": "2uYkcSocnInu",
        "outputId": "85ae2113-bb90-4383-f6f8-1fc19fc4bef9"
      },
      "source": [
        "data = pd.read_csv('homepage-experiment-data.csv')\n",
        "data.tail(10)"
      ],
      "execution_count": 16,
      "outputs": [
        {
          "output_type": "execute_result",
          "data": {
            "text/html": [
              "<div>\n",
              "<style scoped>\n",
              "    .dataframe tbody tr th:only-of-type {\n",
              "        vertical-align: middle;\n",
              "    }\n",
              "\n",
              "    .dataframe tbody tr th {\n",
              "        vertical-align: top;\n",
              "    }\n",
              "\n",
              "    .dataframe thead th {\n",
              "        text-align: right;\n",
              "    }\n",
              "</style>\n",
              "<table border=\"1\" class=\"dataframe\">\n",
              "  <thead>\n",
              "    <tr style=\"text-align: right;\">\n",
              "      <th></th>\n",
              "      <th>Day</th>\n",
              "      <th>Control Cookies</th>\n",
              "      <th>Control Downloads</th>\n",
              "      <th>Control Licenses</th>\n",
              "      <th>Experiment Cookies</th>\n",
              "      <th>Experiment Downloads</th>\n",
              "      <th>Experiment Licenses</th>\n",
              "    </tr>\n",
              "  </thead>\n",
              "  <tbody>\n",
              "    <tr>\n",
              "      <th>19</th>\n",
              "      <td>20</td>\n",
              "      <td>1817</td>\n",
              "      <td>320</td>\n",
              "      <td>35</td>\n",
              "      <td>1780</td>\n",
              "      <td>315</td>\n",
              "      <td>23</td>\n",
              "    </tr>\n",
              "    <tr>\n",
              "      <th>20</th>\n",
              "      <td>21</td>\n",
              "      <td>1602</td>\n",
              "      <td>271</td>\n",
              "      <td>38</td>\n",
              "      <td>1588</td>\n",
              "      <td>256</td>\n",
              "      <td>44</td>\n",
              "    </tr>\n",
              "    <tr>\n",
              "      <th>21</th>\n",
              "      <td>22</td>\n",
              "      <td>1743</td>\n",
              "      <td>277</td>\n",
              "      <td>29</td>\n",
              "      <td>1861</td>\n",
              "      <td>341</td>\n",
              "      <td>37</td>\n",
              "    </tr>\n",
              "    <tr>\n",
              "      <th>22</th>\n",
              "      <td>23</td>\n",
              "      <td>1631</td>\n",
              "      <td>249</td>\n",
              "      <td>26</td>\n",
              "      <td>1517</td>\n",
              "      <td>272</td>\n",
              "      <td>35</td>\n",
              "    </tr>\n",
              "    <tr>\n",
              "      <th>23</th>\n",
              "      <td>24</td>\n",
              "      <td>1489</td>\n",
              "      <td>241</td>\n",
              "      <td>29</td>\n",
              "      <td>1466</td>\n",
              "      <td>279</td>\n",
              "      <td>31</td>\n",
              "    </tr>\n",
              "    <tr>\n",
              "      <th>24</th>\n",
              "      <td>25</td>\n",
              "      <td>1529</td>\n",
              "      <td>226</td>\n",
              "      <td>34</td>\n",
              "      <td>1609</td>\n",
              "      <td>284</td>\n",
              "      <td>29</td>\n",
              "    </tr>\n",
              "    <tr>\n",
              "      <th>25</th>\n",
              "      <td>26</td>\n",
              "      <td>1612</td>\n",
              "      <td>276</td>\n",
              "      <td>36</td>\n",
              "      <td>1574</td>\n",
              "      <td>295</td>\n",
              "      <td>38</td>\n",
              "    </tr>\n",
              "    <tr>\n",
              "      <th>26</th>\n",
              "      <td>27</td>\n",
              "      <td>1760</td>\n",
              "      <td>291</td>\n",
              "      <td>42</td>\n",
              "      <td>1666</td>\n",
              "      <td>297</td>\n",
              "      <td>28</td>\n",
              "    </tr>\n",
              "    <tr>\n",
              "      <th>27</th>\n",
              "      <td>28</td>\n",
              "      <td>1548</td>\n",
              "      <td>271</td>\n",
              "      <td>38</td>\n",
              "      <td>1587</td>\n",
              "      <td>314</td>\n",
              "      <td>37</td>\n",
              "    </tr>\n",
              "    <tr>\n",
              "      <th>28</th>\n",
              "      <td>29</td>\n",
              "      <td>1781</td>\n",
              "      <td>254</td>\n",
              "      <td>33</td>\n",
              "      <td>1728</td>\n",
              "      <td>290</td>\n",
              "      <td>41</td>\n",
              "    </tr>\n",
              "  </tbody>\n",
              "</table>\n",
              "</div>"
            ],
            "text/plain": [
              "    Day  Control Cookies  ...  Experiment Downloads  Experiment Licenses\n",
              "19   20             1817  ...                   315                   23\n",
              "20   21             1602  ...                   256                   44\n",
              "21   22             1743  ...                   341                   37\n",
              "22   23             1631  ...                   272                   35\n",
              "23   24             1489  ...                   279                   31\n",
              "24   25             1529  ...                   284                   29\n",
              "25   26             1612  ...                   295                   38\n",
              "26   27             1760  ...                   297                   28\n",
              "27   28             1548  ...                   314                   37\n",
              "28   29             1781  ...                   290                   41\n",
              "\n",
              "[10 rows x 7 columns]"
            ]
          },
          "metadata": {
            "tags": []
          },
          "execution_count": 16
        }
      ]
    },
    {
      "cell_type": "markdown",
      "metadata": {
        "id": "vWRW_x2fFTPj"
      },
      "source": [
        "**1 - Calculating p-vaue for the invariant metric**\n",
        "\n"
      ]
    },
    {
      "cell_type": "code",
      "metadata": {
        "colab": {
          "base_uri": "https://localhost:8080/"
        },
        "id": "6a22pZn5nfy_",
        "outputId": "80c1ea15-b233-4604-cdd7-763efe80df27"
      },
      "source": [
        "#total number of observations\n",
        "num_obs = data['Control Cookies'].sum() + data['Experiment Cookies'].sum()\n",
        "num_obs"
      ],
      "execution_count": 45,
      "outputs": [
        {
          "output_type": "execute_result",
          "data": {
            "text/plain": [
              "94197"
            ]
          },
          "metadata": {
            "tags": []
          },
          "execution_count": 45
        }
      ]
    },
    {
      "cell_type": "code",
      "metadata": {
        "colab": {
          "base_uri": "https://localhost:8080/"
        },
        "id": "XWc12NT1pC9b",
        "outputId": "a4a69ef0-c864-49dc-eee2-64d95e77b35d"
      },
      "source": [
        "#total number of control group\n",
        "n_ctr = data['Control Cookies'].sum()\n",
        "n_ctr"
      ],
      "execution_count": 5,
      "outputs": [
        {
          "output_type": "execute_result",
          "data": {
            "text/plain": [
              "46851"
            ]
          },
          "metadata": {
            "tags": []
          },
          "execution_count": 5
        }
      ]
    },
    {
      "cell_type": "code",
      "metadata": {
        "id": "xsnjByJHpXwM"
      },
      "source": [
        "#binomial test\n",
        "\n",
        "p = 0.5\n",
        "n_trials = 200000\n",
        "\n",
        "samples = np.random.binomial(num_obs, p, n_trials)"
      ],
      "execution_count": 7,
      "outputs": []
    },
    {
      "cell_type": "code",
      "metadata": {
        "colab": {
          "base_uri": "https://localhost:8080/"
        },
        "id": "J9cDZsK_px5r",
        "outputId": "548cf26a-32d9-46df-b3cd-759714a48f76"
      },
      "source": [
        "#evaluating p-value\n",
        "print(np.logical_or(samples <= n_ctr, samples > (num_obs - n_ctr)).mean())"
      ],
      "execution_count": 13,
      "outputs": [
        {
          "output_type": "stream",
          "text": [
            "0.106635\n"
          ],
          "name": "stdout"
        }
      ]
    },
    {
      "cell_type": "markdown",
      "metadata": {
        "id": "J0W330WZFkE4"
      },
      "source": [
        "**2 -  Calculating p-value for download rate metric**\n",
        "\n"
      ]
    },
    {
      "cell_type": "code",
      "metadata": {
        "id": "gizJzBcSqtKs"
      },
      "source": [
        "#Hypoteses about difference in download for ctr and exp groups\n",
        "#H0: exp - ctr <= 0\n",
        "#H1: exp - ctr > 0"
      ],
      "execution_count": null,
      "outputs": []
    },
    {
      "cell_type": "code",
      "metadata": {
        "colab": {
          "base_uri": "https://localhost:8080/"
        },
        "id": "X2ta2Y9dvBBm",
        "outputId": "40ac5399-5d9f-45dc-bd30-ae8ee90ebe40"
      },
      "source": [
        "#number downloads / cookies for control group\n",
        "ratio_dw_ctr = data['Control Downloads'].sum() / data['Control Cookies'].sum()\n",
        "ratio_dw_ctr"
      ],
      "execution_count": 47,
      "outputs": [
        {
          "output_type": "execute_result",
          "data": {
            "text/plain": [
              "0.16123455209067042"
            ]
          },
          "metadata": {
            "tags": []
          },
          "execution_count": 47
        }
      ]
    },
    {
      "cell_type": "code",
      "metadata": {
        "colab": {
          "base_uri": "https://localhost:8080/"
        },
        "id": "1IYtoJuyvA7q",
        "outputId": "e78fddab-de2a-45e2-ed01-38cfe1dd7bc5"
      },
      "source": [
        "#number downloads / cookies for experiment group\n",
        "ratio_dw_exp = data['Experiment Downloads'].sum() / data['Experiment Cookies'].sum()\n",
        "ratio_dw_exp"
      ],
      "execution_count": 48,
      "outputs": [
        {
          "output_type": "execute_result",
          "data": {
            "text/plain": [
              "0.180543234908968"
            ]
          },
          "metadata": {
            "tags": []
          },
          "execution_count": 48
        }
      ]
    },
    {
      "cell_type": "code",
      "metadata": {
        "colab": {
          "base_uri": "https://localhost:8080/"
        },
        "id": "qfHmG436vAzF",
        "outputId": "3888611c-ad60-42ab-b0e8-51f12449fd4d"
      },
      "source": [
        "#Real difference observed in proportion for exp and ctr groups\n",
        "obs_diff = ratio_dw_exp - ratio_dw_ctr\n",
        "obs_diff"
      ],
      "execution_count": 50,
      "outputs": [
        {
          "output_type": "execute_result",
          "data": {
            "text/plain": [
              "0.01930868281829759"
            ]
          },
          "metadata": {
            "tags": []
          },
          "execution_count": 50
        }
      ]
    },
    {
      "cell_type": "code",
      "metadata": {
        "id": "u6WhE906vAo-"
      },
      "source": [
        "#Bootstrapping difference in proportion for ctr and exp groups\n",
        "diffs = []\n",
        "\n",
        "for _ in range(200000):\n",
        "  sample = data.sample(data.shape[0], replace=True)\n",
        "  ratio_dw_ctr = sample['Control Downloads'].sum() / sample['Control Cookies'].sum()\n",
        "  ratio_dw_exp = sample['Experiment Downloads'].sum() / sample['Experiment Cookies'].sum()\n",
        "  diffs.append(ratio_dw_exp - ratio_dw_ctr)"
      ],
      "execution_count": 51,
      "outputs": []
    },
    {
      "cell_type": "code",
      "metadata": {
        "id": "ksYN1HKOzt-L"
      },
      "source": [
        "#transforming the Diffs list to a numpy array\n",
        "diffs = np.array(diffs)"
      ],
      "execution_count": 52,
      "outputs": []
    },
    {
      "cell_type": "code",
      "metadata": {
        "colab": {
          "base_uri": "https://localhost:8080/",
          "height": 367
        },
        "id": "QW5eRF4Rz0wa",
        "outputId": "17804482-2edb-42b4-a7d5-8d436bda7870"
      },
      "source": [
        "#Plot the differences \n",
        "plt.hist(diffs)"
      ],
      "execution_count": 53,
      "outputs": [
        {
          "output_type": "execute_result",
          "data": {
            "text/plain": [
              "(array([6.0000e+01, 1.0360e+03, 8.7260e+03, 3.4035e+04, 6.3756e+04,\n",
              "        5.9525e+04, 2.6646e+04, 5.6090e+03, 5.8400e+02, 2.3000e+01]),\n",
              " array([0.00828022, 0.01054003, 0.01279984, 0.01505965, 0.01731946,\n",
              "        0.01957927, 0.02183908, 0.02409889, 0.0263587 , 0.02861851,\n",
              "        0.03087832]),\n",
              " <a list of 10 Patch objects>)"
            ]
          },
          "metadata": {
            "tags": []
          },
          "execution_count": 53
        },
        {
          "output_type": "display_data",
          "data": {
            "image/png": "[encoded data removed]",
            "text/plain": [
              "<Figure size 432x288 with 1 Axes>"
            ]
          },
          "metadata": {
            "tags": [],
            "needs_background": "light"
          }
        }
      ]
    },
    {
      "cell_type": "code",
      "metadata": {
        "id": "Y_mHW1zZz0kT"
      },
      "source": [
        "#Generating values centered at 0 and std from Diffs\n",
        "null_vals = np.random.normal(0, np.std(diffs), 10000)"
      ],
      "execution_count": 54,
      "outputs": []
    },
    {
      "cell_type": "code",
      "metadata": {
        "colab": {
          "base_uri": "https://localhost:8080/",
          "height": 283
        },
        "id": "6tYWQGUv0yXe",
        "outputId": "0ecb1564-c876-4a00-fd05-fac6a1146185"
      },
      "source": [
        "#Checking our statistic in the distribution\n",
        "plt.hist(null_vals)\n",
        "plt.axvline(x=obs_diff, color='red')"
      ],
      "execution_count": 55,
      "outputs": [
        {
          "output_type": "execute_result",
          "data": {
            "text/plain": [
              "<matplotlib.lines.Line2D at 0x7fd3f47a5c50>"
            ]
          },
          "metadata": {
            "tags": []
          },
          "execution_count": 55
        },
        {
          "output_type": "display_data",
          "data": {
            "image/png": "[encoded data removed]",
            "text/plain": [
              "<Figure size 432x288 with 1 Axes>"
            ]
          },
          "metadata": {
            "tags": [],
            "needs_background": "light"
          }
        }
      ]
    },
    {
      "cell_type": "code",
      "metadata": {
        "colab": {
          "base_uri": "https://localhost:8080/"
        },
        "id": "uKrHMqvo05Zg",
        "outputId": "b4947b92-4588-4cda-a4b0-512dafb92582"
      },
      "source": [
        "#Calculation the p-value\n",
        "(null_vals >= obs_diff).mean()"
      ],
      "execution_count": 56,
      "outputs": [
        {
          "output_type": "execute_result",
          "data": {
            "text/plain": [
              "0.0"
            ]
          },
          "metadata": {
            "tags": []
          },
          "execution_count": 56
        }
      ]
    },
    {
      "cell_type": "markdown",
      "metadata": {
        "id": "MZaodgVEFzqp"
      },
      "source": [
        "**3 - Calculating p-value for purchase metric**\n",
        "\n"
      ]
    },
    {
      "cell_type": "code",
      "metadata": {
        "id": "XLfhjaLd1Ci7"
      },
      "source": [
        "#Hypoteses about difference in download for ctr and exp groups\n",
        "#H0: exp - ctr <= 0\n",
        "#H1: exp - ctr > 0"
      ],
      "execution_count": 57,
      "outputs": []
    },
    {
      "cell_type": "code",
      "metadata": {
        "colab": {
          "base_uri": "https://localhost:8080/"
        },
        "id": "szCzi5mUHQFe",
        "outputId": "f49bc87f-9b92-4e6a-fa4b-f8f196e4eb5e"
      },
      "source": [
        "#number purchases / cookies for control group\n",
        "ratio_pc_ctr = data['Control Licenses'].sum() / data['Control Cookies'].iloc[0:21].sum()\n",
        "ratio_pc_ctr"
      ],
      "execution_count": 60,
      "outputs": [
        {
          "output_type": "execute_result",
          "data": {
            "text/plain": [
              "0.021032051661828307"
            ]
          },
          "metadata": {
            "tags": []
          },
          "execution_count": 60
        }
      ]
    },
    {
      "cell_type": "code",
      "metadata": {
        "colab": {
          "base_uri": "https://localhost:8080/"
        },
        "id": "2jzdZUZoIGJV",
        "outputId": "0a774c66-9cac-4712-8c4c-c5873515cc84"
      },
      "source": [
        "#number purchases / cookies for experiment group\n",
        "ratio_pc_exp = data['Experiment Licenses'].sum() / data['Experiment Cookies'].iloc[0:21].sum()\n",
        "ratio_pc_exp"
      ],
      "execution_count": 61,
      "outputs": [
        {
          "output_type": "execute_result",
          "data": {
            "text/plain": [
              "0.021317490826489604"
            ]
          },
          "metadata": {
            "tags": []
          },
          "execution_count": 61
        }
      ]
    },
    {
      "cell_type": "code",
      "metadata": {
        "colab": {
          "base_uri": "https://localhost:8080/"
        },
        "id": "_ruAC77LJKyZ",
        "outputId": "366898c8-7479-43f7-f8af-b4bb6671fd93"
      },
      "source": [
        "#Real difference observed in proportion for exp and ctr groups\n",
        "obs_diff = ratio_pc_exp - ratio_pc_ctr\n",
        "obs_diff"
      ],
      "execution_count": 62,
      "outputs": [
        {
          "output_type": "execute_result",
          "data": {
            "text/plain": [
              "0.00028543916466129693"
            ]
          },
          "metadata": {
            "tags": []
          },
          "execution_count": 62
        }
      ]
    },
    {
      "cell_type": "code",
      "metadata": {
        "id": "R8uj3vqUJKvl"
      },
      "source": [
        "#Bootstrapping difference in proportion for ctr and exp groups\n",
        "diffs = []\n",
        "\n",
        "for _ in range(200000):\n",
        "  sample = data.sample(data.shape[0], replace=True)\n",
        "  ratio_pc_ctr = sample['Control Licenses'].sum() / sample['Control Cookies'].iloc[0:21].sum()\n",
        "  ratio_pc_exp = sample['Experiment Licenses'].sum() / sample['Experiment Cookies'].iloc[0:21].sum()\n",
        "  diffs.append(ratio_pc_exp - ratio_pc_ctr)"
      ],
      "execution_count": 63,
      "outputs": []
    },
    {
      "cell_type": "code",
      "metadata": {
        "id": "u3tdg9TnJKrO"
      },
      "source": [
        "#transforming the Diffs list to a numpy array\n",
        "diffs = np.array(diffs)"
      ],
      "execution_count": 65,
      "outputs": []
    },
    {
      "cell_type": "code",
      "metadata": {
        "colab": {
          "base_uri": "https://localhost:8080/",
          "height": 367
        },
        "id": "MabarjABJKoy",
        "outputId": "7c837dc0-66d3-46b4-a798-8e579e2a6e61"
      },
      "source": [
        "#Plot the differences \n",
        "plt.hist(diffs)"
      ],
      "execution_count": 66,
      "outputs": [
        {
          "output_type": "execute_result",
          "data": {
            "text/plain": [
              "(array([6.6000e+01, 8.3900e+02, 7.1350e+03, 2.9756e+04, 6.2512e+04,\n",
              "        6.2674e+04, 2.9992e+04, 6.4090e+03, 5.8900e+02, 2.8000e+01]),\n",
              " array([-0.00372244, -0.00289139, -0.00206033, -0.00122927, -0.00039822,\n",
              "         0.00043284,  0.0012639 ,  0.00209495,  0.00292601,  0.00375706,\n",
              "         0.00458812]),\n",
              " <a list of 10 Patch objects>)"
            ]
          },
          "metadata": {
            "tags": []
          },
          "execution_count": 66
        },
        {
          "output_type": "display_data",
          "data": {
            "image/png": "[encoded data removed]",
            "text/plain": [
              "<Figure size 432x288 with 1 Axes>"
            ]
          },
          "metadata": {
            "tags": [],
            "needs_background": "light"
          }
        }
      ]
    },
    {
      "cell_type": "code",
      "metadata": {
        "id": "CqPwSDXtKb7Q"
      },
      "source": [
        "#Generating values centered at 0 and std from Diffs\n",
        "null_vals = np.random.normal(0, np.std(diffs), 200000)"
      ],
      "execution_count": 68,
      "outputs": []
    },
    {
      "cell_type": "code",
      "metadata": {
        "colab": {
          "base_uri": "https://localhost:8080/",
          "height": 282
        },
        "id": "Yvsq-6REKb3i",
        "outputId": "810bdd51-ac3a-40a4-d2fa-6448808ba2ad"
      },
      "source": [
        "#Checking our statistic in the distribution\n",
        "plt.hist(null_vals)\n",
        "plt.axvline(x=obs_diff, color='red')"
      ],
      "execution_count": 69,
      "outputs": [
        {
          "output_type": "execute_result",
          "data": {
            "text/plain": [
              "<matplotlib.lines.Line2D at 0x7fd3f453c590>"
            ]
          },
          "metadata": {
            "tags": []
          },
          "execution_count": 69
        },
        {
          "output_type": "display_data",
          "data": {
            "image/png": "[encoded data removed]",
            "text/plain": [
              "<Figure size 432x288 with 1 Axes>"
            ]
          },
          "metadata": {
            "tags": [],
            "needs_background": "light"
          }
        }
      ]
    },
    {
      "cell_type": "code",
      "metadata": {
        "colab": {
          "base_uri": "https://localhost:8080/"
        },
        "id": "7PoQfJXdKbuc",
        "outputId": "4f3bb3ce-81f4-4986-d947-7b76dbf2c115"
      },
      "source": [
        "#Calculation the p-value\n",
        "(null_vals >= obs_diff).mean()"
      ],
      "execution_count": 70,
      "outputs": [
        {
          "output_type": "execute_result",
          "data": {
            "text/plain": [
              "0.37776"
            ]
          },
          "metadata": {
            "tags": []
          },
          "execution_count": 70
        }
      ]
    },
    {
      "cell_type": "code",
      "metadata": {
        "id": "fXTx9LCCLP4h"
      },
      "source": [
        ""
      ],
      "execution_count": null,
      "outputs": []
    }
  ]
}